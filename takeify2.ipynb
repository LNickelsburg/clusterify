{
  "nbformat": 4,
  "nbformat_minor": 0,
  "metadata": {
    "colab": {
      "provenance": [],
      "authorship_tag": "ABX9TyNe5tyBUq2rkyT4DhCjw3IK",
      "include_colab_link": true
    },
    "kernelspec": {
      "name": "python3",
      "display_name": "Python 3"
    },
    "language_info": {
      "name": "python"
    }
  },
  "cells": [
    {
      "cell_type": "markdown",
      "metadata": {
        "id": "view-in-github",
        "colab_type": "text"
      },
      "source": [
        "<a href=\"https://colab.research.google.com/github/LNickelsburg/clusterify/blob/main/takeify.ipynb\" target=\"_parent\"><img src=\"https://colab.research.google.com/assets/colab-badge.svg\" alt=\"Open In Colab\"/></a>"
      ]
    },
    {
      "cell_type": "markdown",
      "source": [
        "#**SETUP**"
      ],
      "metadata": {
        "id": "4yCp5Ov5uQ0f"
      }
    },
    {
      "cell_type": "code",
      "source": [
        "!pip install spotipy"
      ],
      "metadata": {
        "colab": {
          "base_uri": "https://localhost:8080/"
        },
        "id": "Gd0AUjdHmu0v",
        "outputId": "607fe041-4f37-448c-d670-517559ee3002"
      },
      "execution_count": null,
      "outputs": [
        {
          "output_type": "stream",
          "name": "stdout",
          "text": [
            "Collecting spotipy\n",
            "  Downloading spotipy-2.23.0-py3-none-any.whl (29 kB)\n",
            "Collecting redis>=3.5.3 (from spotipy)\n",
            "  Downloading redis-5.0.1-py3-none-any.whl (250 kB)\n",
            "\u001b[2K     \u001b[90m━━━━━━━━━━━━━━━━━━━━━━━━━━━━━━━━━━━━━━━━\u001b[0m \u001b[32m250.3/250.3 kB\u001b[0m \u001b[31m3.5 MB/s\u001b[0m eta \u001b[36m0:00:00\u001b[0m\n",
            "\u001b[?25hRequirement already satisfied: requests>=2.25.0 in /usr/local/lib/python3.10/dist-packages (from spotipy) (2.31.0)\n",
            "Requirement already satisfied: six>=1.15.0 in /usr/local/lib/python3.10/dist-packages (from spotipy) (1.16.0)\n",
            "Requirement already satisfied: urllib3>=1.26.0 in /usr/local/lib/python3.10/dist-packages (from spotipy) (2.0.7)\n",
            "Requirement already satisfied: async-timeout>=4.0.2 in /usr/local/lib/python3.10/dist-packages (from redis>=3.5.3->spotipy) (4.0.3)\n",
            "Requirement already satisfied: charset-normalizer<4,>=2 in /usr/local/lib/python3.10/dist-packages (from requests>=2.25.0->spotipy) (3.3.2)\n",
            "Requirement already satisfied: idna<4,>=2.5 in /usr/local/lib/python3.10/dist-packages (from requests>=2.25.0->spotipy) (3.6)\n",
            "Requirement already satisfied: certifi>=2017.4.17 in /usr/local/lib/python3.10/dist-packages (from requests>=2.25.0->spotipy) (2023.11.17)\n",
            "Installing collected packages: redis, spotipy\n",
            "Successfully installed redis-5.0.1 spotipy-2.23.0\n"
          ]
        }
      ]
    },
    {
      "cell_type": "code",
      "source": [
        "from google.colab import drive\n",
        "drive.mount('/content/drive')"
      ],
      "metadata": {
        "id": "N3oRaoFGspyo",
        "colab": {
          "base_uri": "https://localhost:8080/"
        },
        "outputId": "7e858149-f213-43b5-82c9-01e81957c7f5"
      },
      "execution_count": null,
      "outputs": [
        {
          "output_type": "stream",
          "name": "stdout",
          "text": [
            "Mounted at /content/drive\n"
          ]
        }
      ]
    },
    {
      "cell_type": "code",
      "source": [
        "import pandas as pd"
      ],
      "metadata": {
        "id": "ZYmwl1KkswXF"
      },
      "execution_count": null,
      "outputs": []
    },
    {
      "cell_type": "code",
      "execution_count": null,
      "metadata": {
        "id": "e0GEz1wzmeMV"
      },
      "outputs": [],
      "source": [
        "import spotipy\n",
        "from spotipy.oauth2 import SpotifyOAuth\n",
        "from spotipy.oauth2 import SpotifyClientCredentials"
      ]
    },
    {
      "cell_type": "code",
      "source": [
        "SPOTIPY_CLIENT_ID='5259ed361642474a9ed685aa905cf558'\n",
        "SPOTIPY_CLIENT_SECRET='303a3f63768b4cc5823497aeb06caa46'\n",
        "SPOTIPY_REDIRECT_URI='https://example.com/callback/'\n",
        "SCOPE=\"user-top-read\""
      ],
      "metadata": {
        "id": "FeGhYmjwm4Oy"
      },
      "execution_count": null,
      "outputs": []
    },
    {
      "cell_type": "code",
      "source": [
        "sp=spotipy.Spotify(auth_manager=SpotifyOAuth(client_id=SPOTIPY_CLIENT_ID,\n",
        "                                             client_secret=SPOTIPY_CLIENT_SECRET,\n",
        "                                             redirect_uri=SPOTIPY_REDIRECT_URI,\n",
        "                                             scope=SCOPE,\n",
        "\n",
        "                                             open_browser=False))"
      ],
      "metadata": {
        "id": "_Xq4qYNQm6Oo"
      },
      "execution_count": null,
      "outputs": []
    },
    {
      "cell_type": "code",
      "source": [
        "quantity=50\n",
        "time=\"short_term\""
      ],
      "metadata": {
        "id": "EYsAU-6hm8Rz"
      },
      "execution_count": null,
      "outputs": []
    },
    {
      "cell_type": "markdown",
      "source": [
        "#**TAKING YOUR DATA**"
      ],
      "metadata": {
        "id": "G84zCPPhuaOR"
      }
    },
    {
      "cell_type": "markdown",
      "source": [
        "## Give me your name"
      ],
      "metadata": {
        "id": "Ocg3rblHv5CW"
      }
    },
    {
      "cell_type": "code",
      "source": [
        "################################################################################\n",
        "#\n",
        "# put your name between the quotation marks!\n",
        "# here is an example of what it should look like:\n",
        "#\n",
        "#   user = \"Leah\"\n",
        "#\n",
        "# put your own name between the quotes below:\n",
        "\n",
        "user = \"Leah\"\n",
        "\n",
        "# after you've put your own name there, press the play button up and to the left"
      ],
      "metadata": {
        "id": "sveh0tIAv9bB"
      },
      "execution_count": null,
      "outputs": []
    },
    {
      "cell_type": "markdown",
      "source": [
        "## Let me into your account"
      ],
      "metadata": {
        "id": "OVcXDiu1x0ot"
      }
    },
    {
      "cell_type": "code",
      "source": [
        "top_tracks= sp.current_user_top_tracks(limit=quantity, offset=0, time_range=time)"
      ],
      "metadata": {
        "id": "3GwO-3Z-m-Uq",
        "colab": {
          "base_uri": "https://localhost:8080/"
        },
        "outputId": "5375de68-d62b-41b4-ee13-5bac948cf516"
      },
      "execution_count": null,
      "outputs": [
        {
          "name": "stdout",
          "output_type": "stream",
          "text": [
            "Go to the following URL: https://accounts.spotify.com/authorize?client_id=5259ed361642474a9ed685aa905cf558&response_type=code&redirect_uri=https%3A%2F%2Fexample.com%2Fcallback%2F&scope=user-top-read\n",
            "Enter the URL you were redirected to: https://example.com/callback/?code=AQD8fsTU2IzPcIG5Mrd1K4LrLvCcf_fbQMsuodJcHDTDpn_Rn3IjylawaYfVtS32whIvQa_02GlKZ_s-1TOoLf-nc7JxCqVapF-n-tBXvLNLodqjFlUqHsXM5I-v68m-xYmnZ-n6dLvU9NYpD7YSX-aUmsDDOeUFZmV4dIpFny-qX0nISqxDp5AARxnoZ3HT\n"
          ]
        }
      ]
    },
    {
      "cell_type": "markdown",
      "source": [
        "#**This part saves your top spotify tracks to a file that I will be playing with**"
      ],
      "metadata": {
        "id": "_gcPiuwyx6lm"
      }
    },
    {
      "cell_type": "code",
      "source": [
        "def get_track_ids(tracks):\n",
        "    track_ids=[]\n",
        "    for song in tracks['items']:\n",
        "        track_ids.append(song['id'])\n",
        "    return track_ids"
      ],
      "metadata": {
        "id": "bRfRwnZYnAmK"
      },
      "execution_count": null,
      "outputs": []
    },
    {
      "cell_type": "code",
      "source": [
        "ids=get_track_ids(top_tracks)"
      ],
      "metadata": {
        "id": "GlxeUAqDnDOE",
        "colab": {
          "base_uri": "https://localhost:8080/",
          "height": 176
        },
        "outputId": "fa011a87-50c6-4538-a127-c17561a0cd89"
      },
      "execution_count": null,
      "outputs": [
        {
          "output_type": "error",
          "ename": "NameError",
          "evalue": "ignored",
          "traceback": [
            "\u001b[0;31m---------------------------------------------------------------------------\u001b[0m",
            "\u001b[0;31mNameError\u001b[0m                                 Traceback (most recent call last)",
            "\u001b[0;32m<ipython-input-1-a6076eaba491>\u001b[0m in \u001b[0;36m<cell line: 1>\u001b[0;34m()\u001b[0m\n\u001b[0;32m----> 1\u001b[0;31m \u001b[0mids\u001b[0m\u001b[0;34m=\u001b[0m\u001b[0mget_track_ids\u001b[0m\u001b[0;34m(\u001b[0m\u001b[0mtop_tracks\u001b[0m\u001b[0;34m)\u001b[0m\u001b[0;34m\u001b[0m\u001b[0;34m\u001b[0m\u001b[0m\n\u001b[0m",
            "\u001b[0;31mNameError\u001b[0m: name 'get_track_ids' is not defined"
          ]
        }
      ]
    },
    {
      "cell_type": "code",
      "source": [
        "id_dataframe = pd.DataFrame({user: [ids]})"
      ],
      "metadata": {
        "id": "iYRPOtKUtGBk"
      },
      "execution_count": null,
      "outputs": []
    },
    {
      "cell_type": "code",
      "source": [
        "id_dataframe.to_csv(f'/content/drive/My Drive/{user}.csv', index=False)"
      ],
      "metadata": {
        "id": "LuUA-r_Ws23Y"
      },
      "execution_count": null,
      "outputs": []
    }
  ]
}
