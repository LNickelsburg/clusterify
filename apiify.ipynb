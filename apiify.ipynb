{
  "nbformat": 4,
  "nbformat_minor": 0,
  "metadata": {
    "colab": {
      "provenance": [],
      "gpuType": "T4",
      "authorship_tag": "ABX9TyPqPj3VslokhJ3r0nv9YjQ1",
      "include_colab_link": true
    },
    "kernelspec": {
      "name": "python3",
      "display_name": "Python 3"
    },
    "language_info": {
      "name": "python"
    }
  },
  "cells": [
    {
      "cell_type": "markdown",
      "metadata": {
        "id": "view-in-github",
        "colab_type": "text"
      },
      "source": [
        "<a href=\"https://colab.research.google.com/github/LNickelsburg/clusterify/blob/main/apiify.ipynb\" target=\"_parent\"><img src=\"https://colab.research.google.com/assets/colab-badge.svg\" alt=\"Open In Colab\"/></a>"
      ]
    },
    {
      "cell_type": "code",
      "execution_count": null,
      "metadata": {
        "id": "R0u8LZlOy5RV"
      },
      "outputs": [],
      "source": [
        "!pip install spotipy"
      ]
    },
    {
      "cell_type": "code",
      "source": [
        "from google.colab import drive\n",
        "drive.mount('/content/drive')\n",
        "\n",
        "import pandas as pd\n",
        "import numpy as np\n",
        "import glob\n",
        "\n",
        "import spotipy\n",
        "from spotipy.oauth2 import SpotifyOAuth\n",
        "from spotipy.oauth2 import SpotifyClientCredentials"
      ],
      "metadata": {
        "id": "1YFfJ_XYzD7b"
      },
      "execution_count": null,
      "outputs": []
    },
    {
      "cell_type": "code",
      "source": [
        "SPOTIPY_CLIENT_ID='5259ed361642474a9ed685aa905cf558'\n",
        "SPOTIPY_CLIENT_SECRET='303a3f63768b4cc5823497aeb06caa46'\n",
        "SPOTIPY_REDIRECT_URI='https://example.com/callback/'\n",
        "SCOPE=\"user-top-read\"\n",
        "\n",
        "sp=spotipy.Spotify(auth_manager=SpotifyOAuth(client_id=SPOTIPY_CLIENT_ID,\n",
        "                                             client_secret=SPOTIPY_CLIENT_SECRET,\n",
        "                                             redirect_uri=SPOTIPY_REDIRECT_URI,\n",
        "                                             scope=SCOPE,\n",
        "\n",
        "                                             open_browser=False))"
      ],
      "metadata": {
        "id": "zy-xs5OezMIQ"
      },
      "execution_count": null,
      "outputs": []
    },
    {
      "cell_type": "code",
      "source": [
        "columns=['id','users','title','artist',\n",
        "         'release_date','acousticness','danceability','duration_ms','energy',\n",
        "         'explicit','instrumentalness','key','liveness','loudness','popularity',\n",
        "         'mode','speechiness','tempo','time_signature','valence']"
      ],
      "metadata": {
        "id": "Ef2feKwBJDEA"
      },
      "execution_count": null,
      "outputs": []
    },
    {
      "cell_type": "code",
      "source": [
        "tracks = pd.DataFrame(columns=columns)\n",
        "\n",
        "# read all csvs to a dataframe of ids, labeled by user\n",
        "\n",
        "directory = \"/content/drive/MyDrive/Colab Notebooks/spotify_app/top_songs/\"\n",
        "\n",
        "for file_name in glob.glob(directory + '*.csv'):\n",
        "\n",
        "    old_column = pd.read_csv(file_name, header=None)\n",
        "    user = old_column.iloc[0, 0]\n",
        "    users_songs = old_column.iloc[1, 0].split(',')\n",
        "\n",
        "    for song in users_songs:\n",
        "        song = song.replace(\"'\", \"\").replace(\"[\", \"\").replace(\"]\", \"\").replace(\" \", \"\")\n",
        "        if song in tracks['id'].values:\n",
        "            track_index = tracks[tracks['id']==song].index[0]\n",
        "            track_users = tracks.at[track_index,'users']\n",
        "            updated_users = track_users + \",\" + user\n",
        "            tracks.at[track_index, 'users'] = updated_users\n",
        "        else:\n",
        "            new_row = pd.DataFrame({'id': [song], 'users': [user]})\n",
        "            tracks = pd.concat([tracks, new_row], ignore_index=True)\n"
      ],
      "metadata": {
        "id": "zUMg7Tvd9BKb"
      },
      "execution_count": null,
      "outputs": []
    },
    {
      "cell_type": "code",
      "source": [
        "#break into chunks, for fewer api calls\n",
        "chunker= lambda y, x: [y[i : i + x] for i in range(0, len(y), x)]\n",
        "id_chunks = chunker\n",
        "id_list=[]\n",
        "for _, track in tracks.iterrows():\n",
        "    id_list.append(track['id'])\n",
        "id_chunks = chunker(id_list, 50)"
      ],
      "metadata": {
        "id": "RHQaLJ7lKoOI"
      },
      "execution_count": null,
      "outputs": []
    },
    {
      "cell_type": "code",
      "source": [
        "# track info, by chunk\n",
        "\n",
        "# this is a big call to the API - make sure you only have to run this cell once\n",
        "  # (otherwise you'll probs run into rate limit issues)\n",
        "\n",
        "track_chunks = []\n",
        "for i, chunk in enumerate(id_chunks):\n",
        "    track_chunk = sp.tracks(chunk)\n",
        "    track_chunks.append(track_chunk)\n",
        "\n"
      ],
      "metadata": {
        "id": "YPGGTC3geMFb"
      },
      "execution_count": null,
      "outputs": []
    },
    {
      "cell_type": "code",
      "source": [
        "#for each track in the chunk\n",
        "i=0\n",
        "for track_chunk in track_chunks:\n",
        "    for track_info in track_chunk['tracks']:\n",
        "\n",
        "        # artist\n",
        "        artist_names = ', '.join([artist['name'] for artist in track_info['artists']])\n",
        "        tracks.loc[i, 'artist'] = artist_names\n",
        "\n",
        "\n",
        "        # other track info\n",
        "        tracks.loc[i, 'release_date'] = track_info['album']['release_date']\n",
        "        tracks.loc[i, 'duration_ms'] = track_info['duration_ms']\n",
        "        tracks.loc[i, 'explicit'] = track_info['explicit']\n",
        "        tracks.loc[i, 'popularity'] = track_info['popularity']\n",
        "        tracks.loc[i, 'title'] = track_info['name']\n",
        "\n",
        "        i+=1"
      ],
      "metadata": {
        "id": "r9Q202oEVGgN"
      },
      "execution_count": null,
      "outputs": []
    },
    {
      "cell_type": "code",
      "source": [
        "# audio features, by chunk\n",
        "i=0\n",
        "for chunk in id_chunks:\n",
        "    feature_chunk = sp.audio_features(chunk)\n",
        "\n",
        "    #for each track in the chunk\n",
        "    for feature_info in feature_chunk:\n",
        "\n",
        "\n",
        "        tracks.loc[i, 'acousticness'] = feature_info['acousticness']\n",
        "        tracks.loc[i, 'danceability'] = feature_info['danceability']\n",
        "        tracks.loc[i, 'energy'] = feature_info['energy']\n",
        "        tracks.loc[i, 'instrumentalness'] = feature_info['instrumentalness']\n",
        "        tracks.loc[i, 'key'] = feature_info['key']\n",
        "        tracks.loc[i, 'liveness'] = feature_info['liveness']\n",
        "        tracks.loc[i, 'loudness'] = feature_info['loudness']\n",
        "        tracks.loc[i, 'mode'] = feature_info['mode']\n",
        "        tracks.loc[i, 'speechiness'] = feature_info['speechiness']\n",
        "        tracks.loc[i, 'tempo'] = feature_info['tempo']\n",
        "        tracks.loc[i, 'time_signature'] = feature_info['time_signature']\n",
        "        tracks.loc[i, 'valence'] = feature_info['valence']\n",
        "\n",
        "        i+=1\n"
      ],
      "metadata": {
        "id": "XY-hooX4f8eV"
      },
      "execution_count": null,
      "outputs": []
    },
    {
      "cell_type": "code",
      "source": [
        "tracks.to_csv('/content/drive/MyDrive/Colab Notebooks/spotify_app/dataset.csv', index=False)"
      ],
      "metadata": {
        "id": "Xg1hEgZGxgyG"
      },
      "execution_count": null,
      "outputs": []
    }
  ]
}