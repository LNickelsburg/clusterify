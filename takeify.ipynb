{
  "nbformat": 4,
  "nbformat_minor": 0,
  "metadata": {
    "colab": {
      "provenance": [],
      "authorship_tag": "ABX9TyPDer9wIAAXdWiBK9UP6Yck",
      "include_colab_link": true
    },
    "kernelspec": {
      "name": "python3",
      "display_name": "Python 3"
    },
    "language_info": {
      "name": "python"
    }
  },
  "cells": [
    {
      "cell_type": "markdown",
      "metadata": {
        "id": "view-in-github",
        "colab_type": "text"
      },
      "source": [
        "<a href=\"https://colab.research.google.com/github/LNickelsburg/clusterify/blob/main/takeify.ipynb\" target=\"_parent\"><img src=\"https://colab.research.google.com/assets/colab-badge.svg\" alt=\"Open In Colab\"/></a>"
      ]
    },
    {
      "cell_type": "markdown",
      "source": [
        "#**SETUP**"
      ],
      "metadata": {
        "id": "4yCp5Ov5uQ0f"
      }
    },
    {
      "cell_type": "code",
      "source": [
        "!pip install spotipy"
      ],
      "metadata": {
        "id": "Gd0AUjdHmu0v"
      },
      "execution_count": null,
      "outputs": []
    },
    {
      "cell_type": "code",
      "source": [
        "from google.colab import drive\n",
        "drive.mount('/content/drive')"
      ],
      "metadata": {
        "id": "N3oRaoFGspyo"
      },
      "execution_count": null,
      "outputs": []
    },
    {
      "cell_type": "code",
      "source": [
        "import pandas as pd"
      ],
      "metadata": {
        "id": "ZYmwl1KkswXF"
      },
      "execution_count": null,
      "outputs": []
    },
    {
      "cell_type": "code",
      "execution_count": null,
      "metadata": {
        "id": "e0GEz1wzmeMV"
      },
      "outputs": [],
      "source": [
        "import spotipy\n",
        "from spotipy.oauth2 import SpotifyOAuth\n",
        "from spotipy.oauth2 import SpotifyClientCredentials"
      ]
    },
    {
      "cell_type": "code",
      "source": [
        "SPOTIPY_CLIENT_ID='5259ed361642474a9ed685aa905cf558'\n",
        "SPOTIPY_CLIENT_SECRET='303a3f63768b4cc5823497aeb06caa46'\n",
        "SPOTIPY_REDIRECT_URI='https://example.com/callback/'\n",
        "SCOPE=\"user-top-read\""
      ],
      "metadata": {
        "id": "FeGhYmjwm4Oy"
      },
      "execution_count": null,
      "outputs": []
    },
    {
      "cell_type": "code",
      "source": [
        "sp=spotipy.Spotify(auth_manager=SpotifyOAuth(client_id=SPOTIPY_CLIENT_ID,\n",
        "                                             client_secret=SPOTIPY_CLIENT_SECRET,\n",
        "                                             redirect_uri=SPOTIPY_REDIRECT_URI,\n",
        "                                             scope=SCOPE,\n",
        "\n",
        "                                             open_browser=False))"
      ],
      "metadata": {
        "id": "_Xq4qYNQm6Oo"
      },
      "execution_count": null,
      "outputs": []
    },
    {
      "cell_type": "code",
      "source": [
        "quantity=50\n",
        "time=\"short_term\""
      ],
      "metadata": {
        "id": "EYsAU-6hm8Rz"
      },
      "execution_count": null,
      "outputs": []
    },
    {
      "cell_type": "markdown",
      "source": [
        "#**TAKING YOUR DATA**"
      ],
      "metadata": {
        "id": "G84zCPPhuaOR"
      }
    },
    {
      "cell_type": "markdown",
      "source": [
        "## Give me your name"
      ],
      "metadata": {
        "id": "Ocg3rblHv5CW"
      }
    },
    {
      "cell_type": "code",
      "source": [
        "# put your own name between the quotes below:\n",
        "\n",
        "user = \"Your Name Here\""
      ],
      "metadata": {
        "id": "sveh0tIAv9bB"
      },
      "execution_count": null,
      "outputs": []
    },
    {
      "cell_type": "markdown",
      "source": [
        "## Let me into your account"
      ],
      "metadata": {
        "id": "OVcXDiu1x0ot"
      }
    },
    {
      "cell_type": "code",
      "source": [
        "top_tracks= sp.current_user_top_tracks(limit=quantity, offset=0, time_range=time)"
      ],
      "metadata": {
        "id": "3GwO-3Z-m-Uq"
      },
      "execution_count": null,
      "outputs": []
    },
    {
      "cell_type": "markdown",
      "source": [
        "#**This part saves your top spotify tracks to a file that I will be playing with**"
      ],
      "metadata": {
        "id": "_gcPiuwyx6lm"
      }
    },
    {
      "cell_type": "code",
      "source": [
        "def get_track_ids(tracks):\n",
        "    track_ids=[]\n",
        "    for song in tracks['items']:\n",
        "        track_ids.append(song['id'])\n",
        "    return track_ids"
      ],
      "metadata": {
        "id": "bRfRwnZYnAmK"
      },
      "execution_count": null,
      "outputs": []
    },
    {
      "cell_type": "code",
      "source": [
        "ids=get_track_ids(top_tracks)\n",
        "id_dataframe = pd.DataFrame({user: [ids]})"
      ],
      "metadata": {
        "id": "GlxeUAqDnDOE"
      },
      "execution_count": null,
      "outputs": []
    },
    {
      "cell_type": "code",
      "source": [
        "id_dataframe.to_csv(f'/content/drive/My Drive/{user}.csv', index=False)"
      ],
      "metadata": {
        "id": "LuUA-r_Ws23Y"
      },
      "execution_count": null,
      "outputs": []
    }
  ]
}