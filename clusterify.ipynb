{
  "nbformat": 4,
  "nbformat_minor": 0,
  "metadata": {
    "colab": {
      "provenance": [],
      "authorship_tag": "ABX9TyOVx0UqH/4kr6nP/iuXGeGw",
      "include_colab_link": true
    },
    "kernelspec": {
      "name": "python3",
      "display_name": "Python 3"
    },
    "language_info": {
      "name": "python"
    }
  },
  "cells": [
    {
      "cell_type": "markdown",
      "metadata": {
        "id": "view-in-github",
        "colab_type": "text"
      },
      "source": [
        "<a href=\"https://colab.research.google.com/github/LNickelsburg/clusterify/blob/main/clusterify.ipynb\" target=\"_parent\"><img src=\"https://colab.research.google.com/assets/colab-badge.svg\" alt=\"Open In Colab\"/></a>"
      ]
    },
    {
      "cell_type": "code",
      "execution_count": null,
      "metadata": {
        "id": "Z5wuMMwvyVHd"
      },
      "outputs": [],
      "source": [
        "from google.colab import drive\n",
        "drive.mount('/content/drive')"
      ]
    },
    {
      "cell_type": "code",
      "source": [
        "import pandas as pd\n",
        "import numpy as np\n",
        "\n",
        "import matplotlib.pyplot as plt\n",
        "from mpl_toolkits.mplot3d import Axes3D\n",
        "\n",
        "from sklearn.cluster import KMeans\n",
        "from sklearn.decomposition import PCA\n",
        "from sklearn.manifold import TSNE\n",
        "from sklearn.preprocessing import StandardScaler"
      ],
      "metadata": {
        "id": "PBrWtAamzKtQ"
      },
      "execution_count": 3,
      "outputs": []
    },
    {
      "cell_type": "markdown",
      "source": [
        "## prep the dataset"
      ],
      "metadata": {
        "id": "EPTetMmV2cZT"
      }
    },
    {
      "cell_type": "code",
      "source": [
        "columns=['id','users','title','artist',\n",
        "         'release_date','acousticness','danceability','duration_ms','energy',\n",
        "         'explicit','instrumentalness','key','liveness','loudness','popularity',\n",
        "         'mode','speechiness','tempo','time_signature','valence']"
      ],
      "metadata": {
        "id": "Ot7ciZZpzO82"
      },
      "execution_count": 4,
      "outputs": []
    },
    {
      "cell_type": "code",
      "source": [
        "dataset = pd.read_csv('/content/drive/MyDrive/Colab Notebooks/spotify_app/dataset.csv',\n",
        "                    usecols=columns)"
      ],
      "metadata": {
        "id": "AnU-oprDzRQ_"
      },
      "execution_count": 5,
      "outputs": []
    },
    {
      "cell_type": "code",
      "source": [
        "# get rid of empty columns (for if one of the api calls didnt work right)\n",
        "dataset = dataset.dropna(axis=1, how='all')\n",
        "\n",
        "# get rid of rows missing information\n",
        "dataset = dataset.dropna(axis=0, how='any')"
      ],
      "metadata": {
        "id": "Vqx8os4UyQet"
      },
      "execution_count": 51,
      "outputs": []
    },
    {
      "cell_type": "code",
      "source": [
        "# turn release date into year integer\n",
        "for i, date in enumerate(dataset['release_date']):\n",
        "    date = int(date[:4])\n",
        "    dataset.loc[i, 'release_date'] = date"
      ],
      "metadata": {
        "id": "OCDWIAchaGcf"
      },
      "execution_count": 9,
      "outputs": []
    },
    {
      "cell_type": "code",
      "source": [
        "# split into features, user labels, and title/artist labels\n",
        "\n",
        "variables=['release_date',\n",
        "           'acousticness',\n",
        "           'danceability',\n",
        "           'duration_ms',\n",
        "           'energy',\n",
        "           'explicit',\n",
        "           'instrumentalness',\n",
        "           'key',\n",
        "           'liveness',\n",
        "           'loudness',\n",
        "           'popularity',\n",
        "           'mode',\n",
        "           'speechiness',\n",
        "           'tempo',\n",
        "           'time_signature',\n",
        "           'valence']\n",
        "\n",
        "features = dataset[variables]\n",
        "users = dataset['users']\n",
        "titles = dataset['title', 'artist']"
      ],
      "metadata": {
        "id": "__RaiHeRzTfk"
      },
      "execution_count": 7,
      "outputs": []
    },
    {
      "cell_type": "code",
      "source": [
        "scaler = StandardScaler()\n",
        "scaled_features = scaler.fit_transform(features)"
      ],
      "metadata": {
        "id": "prXRkMWt3H0w"
      },
      "execution_count": 10,
      "outputs": []
    },
    {
      "cell_type": "code",
      "source": [
        "flattened_users = []\n",
        "for user in users:\n",
        "    user_list = user.split(',')\n",
        "    flattened_users.extend([u.strip(\"'\") for u in user_list])\n",
        "\n",
        "unique_users = np.unique(flattened_users)"
      ],
      "metadata": {
        "id": "rOi8R-68ZD3k"
      },
      "execution_count": 11,
      "outputs": []
    },
    {
      "cell_type": "code",
      "source": [
        "# give the users all their own colors :)\n",
        "colors = plt.cm.rainbow(np.linspace(0, 1, len(unique_users)))\n",
        "user_colors = dict(zip(unique_users, colors))\n",
        "print(user_colors)"
      ],
      "metadata": {
        "id": "rP-zo9M72TXm"
      },
      "execution_count": null,
      "outputs": []
    },
    {
      "cell_type": "code",
      "source": [
        "# if you wanna personalize the colors\n",
        "\n",
        "user_colors['Justin'] = 'blue'\n",
        "user_colors['Leah'] = 'coral'"
      ],
      "metadata": {
        "id": "J1ws60gk3HUF"
      },
      "execution_count": 61,
      "outputs": []
    },
    {
      "cell_type": "markdown",
      "source": [
        "## distribution visualization (just for funsies)"
      ],
      "metadata": {
        "id": "Af-PCxJ7zKoc"
      }
    },
    {
      "cell_type": "code",
      "source": [
        "# distribution\n",
        "\n",
        "feature_names = features.columns\n",
        "num_features = scaled_features.shape[1]\n",
        "\n",
        "ncols = 3\n",
        "nrows = (num_features+2)//ncols\n",
        "\n",
        "fig, axes = plt.subplots(nrows=nrows, ncols=ncols, figsize=(15, 3 * nrows))\n",
        "axes = axes.ravel()\n",
        "\n",
        "min_feature_value = np.min(scaled_features)\n",
        "max_feature_value = np.max(scaled_features)\n",
        "num_bins=50\n",
        "bins = np.linspace(min_feature_value, max_feature_value, num_bins + 1)\n",
        "\n",
        "# Plot histograms for each feature\n",
        "for i in range(num_features):\n",
        "    ax = axes[i]\n",
        "    for user_index, user in enumerate(unique_users):\n",
        "        # Mask to select only the rows for the current user\n",
        "        user_mask = np.array(users) == user\n",
        "        user_features = scaled_features[user_mask, i]\n",
        "\n",
        "        # Plot histogram for the current user and feature\n",
        "        ax.hist(user_features, bins=bins, color=user_colors[user], alpha=0.5,\n",
        "                edgecolor='black',label=user)\n",
        "\n",
        "    ax.set_title(f'Distribution of {feature_names[i]}')\n",
        "    ax.set_xlabel('Value')\n",
        "    ax.set_ylabel('Frequency')\n",
        "    ax.legend(loc='upper right', fontsize='x-small')\n",
        "\n",
        "# Hide any unused axes\n",
        "for i in range(num_features, nrows * 3):\n",
        "    fig.delaxes(axes[i])\n",
        "\n",
        "# Adjust layout and show plot\n",
        "plt.tight_layout()\n",
        "plt.show()"
      ],
      "metadata": {
        "id": "pDYN95NkEKsq"
      },
      "execution_count": null,
      "outputs": []
    },
    {
      "cell_type": "markdown",
      "source": [
        "# K-Means and PCA"
      ],
      "metadata": {
        "id": "EX6K4YFd6GJc"
      }
    },
    {
      "cell_type": "code",
      "source": [
        "# Apply K-Means Clustering\n",
        "kmeans = KMeans(n_clusters=2, n_init=1000)  # Choose the number of clusters\n",
        "kmeans.fit(scaled_features)\n",
        "labels = kmeans.labels_\n"
      ],
      "metadata": {
        "id": "H6KqHx2B3UbT"
      },
      "execution_count": 14,
      "outputs": []
    },
    {
      "cell_type": "code",
      "source": [
        "# Dimensionality Reduction for Visualization\n",
        "pca = PCA(n_components=3)\n",
        "reduced_features = pca.fit_transform(scaled_features)\n"
      ],
      "metadata": {
        "id": "Kc-eyfQHA2G7"
      },
      "execution_count": 15,
      "outputs": []
    },
    {
      "cell_type": "code",
      "source": [
        "# plot, with colors representing k-means clusters\n",
        "fig = plt.figure(figsize=(14, 7))\n",
        "ax = fig.add_subplot(111, projection='3d')\n",
        "\n",
        "ax.scatter(reduced_features[:, 0], reduced_features[:, 1], reduced_features[:, 2], c=labels, alpha=0.7)\n",
        "\n",
        "ax.view_init(elev=0, azim=90)\n",
        "ax.set_xlabel('PCA Feature 1')\n",
        "ax.set_ylabel('PCA Feature 2')\n",
        "ax.set_zlabel('PCA Feature 3')\n",
        "ax.set_title('3D PCA K-Means Cluster Visualization')\n",
        "\n",
        "plt.show()"
      ],
      "metadata": {
        "id": "qD-YyBn3ng8e"
      },
      "execution_count": null,
      "outputs": []
    },
    {
      "cell_type": "code",
      "source": [
        "# plot, with colors representing users\n",
        "fig = plt.figure(figsize=(14, 7))\n",
        "ax = fig.add_subplot(111, projection='3d')\n",
        "\n",
        "for user_index, user in enumerate(unique_users):\n",
        "    user_mask = np.array(users) == user  # Create a mask for the current user\n",
        "    user_features = reduced_features[user_mask]  # Apply mask to features\n",
        "\n",
        "    # Use the mask to plot only this user's features\n",
        "    ax.scatter(user_features[:, 0], user_features[:, 1], user_features[:, 2], color=user_colors[user], label=user, alpha=0.7)\n",
        "\n",
        "ax.view_init(elev=30, azim=-45)\n",
        "ax.set_xlabel('PCA Feature 1')\n",
        "ax.set_ylabel('PCA Feature 2')\n",
        "ax.set_zlabel('PCA Feature 3')\n",
        "ax.set_title('3D PCA Visualization, By User')\n",
        "\n",
        "# Create a legend\n",
        "plt.legend(title=\"User Names\", bbox_to_anchor=(1.05, 1), loc='upper left')\n",
        "\n",
        "plt.show()\n"
      ],
      "metadata": {
        "id": "KTjpvXTtqLa8"
      },
      "execution_count": null,
      "outputs": []
    },
    {
      "cell_type": "markdown",
      "source": [
        "# PCA"
      ],
      "metadata": {
        "id": "fc1V2o1o9sEN"
      }
    },
    {
      "cell_type": "code",
      "source": [
        "principal_components = pd.DataFrame(data=reduced_features, columns=['PC1', 'PC2', 'PC3'])\n",
        "\n",
        "explained_variance = pca.explained_variance_ratio_\n",
        "print(f\"Explained variance by component: {explained_variance}\")\n",
        "\n",
        "\n",
        "loadings = pca.components_.T * np.sqrt(pca.explained_variance_)\n",
        "loading_matrix = pd.DataFrame(loadings, columns=['PC1', 'PC2', 'PC3'], index=features.columns)\n",
        "print(loading_matrix)"
      ],
      "metadata": {
        "id": "5dqtb_w19uDI"
      },
      "execution_count": null,
      "outputs": []
    },
    {
      "cell_type": "code",
      "source": [
        "ranked_PC1 = loading_matrix.abs().sort_values(by='PC1', ascending=False)\n",
        "ranked_PC2 = loading_matrix.abs().sort_values(by='PC2', ascending=False)\n",
        "ranked_PC3 = loading_matrix.abs().sort_values(by='PC3', ascending=False)\n",
        "\n",
        "\n",
        "print(\"Features sorted by their impact on PC1:\")\n",
        "print(ranked_PC1['PC1'])\n",
        "\n",
        "print(\"\\nFeatures sorted by their impact on PC2:\")\n",
        "print(ranked_PC2['PC2'])\n",
        "\n",
        "print(\"\\nFeatures sorted by their impact on PC3:\")\n",
        "print(ranked_PC3['PC3'])"
      ],
      "metadata": {
        "id": "EBysqiZF_B75"
      },
      "execution_count": null,
      "outputs": []
    }
  ]
}