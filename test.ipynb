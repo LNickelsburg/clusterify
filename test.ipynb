{
 "cells": [
  {
   "cell_type": "code",
   "execution_count": 21,
   "metadata": {},
   "outputs": [],
   "source": [
    "import requests\n",
    "import spotipy\n",
    "from spotipy.oauth2 import SpotifyOAuth\n",
    "import pandas as pd \n",
    "import time\n",
    "import datetime"
   ]
  },
  {
   "cell_type": "code",
   "execution_count": 22,
   "metadata": {},
   "outputs": [],
   "source": [
    "SPOTIPY_CLIENT_ID='5259ed361642474a9ed685aa905cf558'\n",
    "SPOTIPY_CLIENT_SECRET='303a3f63768b4cc5823497aeb06caa46'\n",
    "SPOTIPY_REDIRECT_URI='http://localhost:3000'\n",
    "SCOPE=\"user-top-read\""
   ]
  },
  {
   "cell_type": "code",
   "execution_count": 23,
   "metadata": {},
   "outputs": [],
   "source": [
    "sp=spotipy.Spotify(auth_manager=SpotifyOAuth(client_id=SPOTIPY_CLIENT_ID,\n",
    "                                             client_secret=SPOTIPY_CLIENT_SECRET,\n",
    "                                             redirect_uri=SPOTIPY_REDIRECT_URI,\n",
    "                                             scope=SCOPE))"
   ]
  },
  {
   "cell_type": "code",
   "execution_count": 44,
   "metadata": {},
   "outputs": [],
   "source": [
    "quantity=5\n",
    "time=\"long_term\""
   ]
  },
  {
   "cell_type": "code",
   "execution_count": 50,
   "metadata": {},
   "outputs": [],
   "source": [
    "top_tracks= sp.current_user_top_tracks(limit=quantity, offset=0, time_range=time)"
   ]
  },
  {
   "cell_type": "code",
   "execution_count": 51,
   "metadata": {},
   "outputs": [],
   "source": [
    "def get_track_ids(tracks):\n",
    "    track_ids=[]\n",
    "    for song in tracks['items']:\n",
    "        track_ids.append(song['id'])\n",
    "    return track_ids"
   ]
  },
  {
   "cell_type": "code",
   "execution_count": 52,
   "metadata": {},
   "outputs": [],
   "source": [
    "def get_track_features(id):\n",
    "    meta=sp.track(id)\n",
    "    name=meta['name']\n",
    "    album=meta['album']['name']\n",
    "    artist=meta['album']['artists'][0]['name']\n",
    "    spotify_url=meta['external_urls']['spotify']\n",
    "    album_cover=meta['album']['images'][0]['url']\n",
    "    track_info=[name,album,artist,spotify_url,album_cover]\n",
    "    return track_info"
   ]
  },
  {
   "cell_type": "code",
   "execution_count": 53,
   "metadata": {},
   "outputs": [],
   "source": [
    "def get_track_titles(tracks):\n",
    "    track_titles = []\n",
    "    for song in tracks['items']:\n",
    "        track_titles.append(song['name'])\n",
    "    return track_titles\n"
   ]
  },
  {
   "cell_type": "code",
   "execution_count": null,
   "metadata": {},
   "outputs": [],
   "source": [
    "ids=get_track_ids(top_tracks)\n",
    "titles=get_track_titles(top_tracks)\n",
    "print(ids)\n",
    "print(titles)"
   ]
  }
 ],
 "metadata": {
  "kernelspec": {
   "display_name": "Python 3",
   "language": "python",
   "name": "python3"
  },
  "language_info": {
   "codemirror_mode": {
    "name": "ipython",
    "version": 3
   },
   "file_extension": ".py",
   "mimetype": "text/x-python",
   "name": "python",
   "nbconvert_exporter": "python",
   "pygments_lexer": "ipython3",
   "version": "3.12.1"
  }
 },
 "nbformat": 4,
 "nbformat_minor": 2
}
